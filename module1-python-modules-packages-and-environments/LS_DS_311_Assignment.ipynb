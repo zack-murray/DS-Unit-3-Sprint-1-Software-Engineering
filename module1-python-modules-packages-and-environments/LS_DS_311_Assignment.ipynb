{
  "nbformat": 4,
  "nbformat_minor": 0,
  "metadata": {
    "colab": {
      "name": "LS_DS_311.ipynb",
      "provenance": [],
      "authorship_tag": "ABX9TyPJPuyeQYGj79oxnD8PL17U",
      "include_colab_link": true
    },
    "kernelspec": {
      "name": "python3",
      "display_name": "Python 3"
    }
  },
  "cells": [
    {
      "cell_type": "markdown",
      "metadata": {
        "id": "view-in-github",
        "colab_type": "text"
      },
      "source": [
        "<a href=\"https://colab.research.google.com/github/zack-murray/DS-Unit-3-Sprint-1-Software-Engineering/blob/master/module1-python-modules-packages-and-environments/LS_DS_311_Assignment.ipynb\" target=\"_parent\"><img src=\"https://colab.research.google.com/assets/colab-badge.svg\" alt=\"Open In Colab\"/></a>"
      ]
    },
    {
      "cell_type": "code",
      "metadata": {
        "id": "L8DIAMqNyThc",
        "colab_type": "code",
        "colab": {
          "base_uri": "https://localhost:8080/",
          "height": 102
        },
        "outputId": "3f277897-a49a-409b-9adb-6824c830fd4d"
      },
      "source": [
        "# Import my mod\n",
        "!pip install -i https://test.pypi.org/simple/ lambdata-zmurray"
      ],
      "execution_count": 1,
      "outputs": [
        {
          "output_type": "stream",
          "text": [
            "Looking in indexes: https://test.pypi.org/simple/\n",
            "Collecting lambdata-zmurray\n",
            "  Downloading https://test-files.pythonhosted.org/packages/19/45/37a5e46415eafd123215b9e250abbc24ecfd1016c621e48527d5e4fe92b2/lambdata_zmurray-1.1-py3-none-any.whl\n",
            "Installing collected packages: lambdata-zmurray\n",
            "Successfully installed lambdata-zmurray-1.1\n"
          ],
          "name": "stdout"
        }
      ]
    },
    {
      "cell_type": "code",
      "metadata": {
        "id": "zTtTlmw8yZhf",
        "colab_type": "code",
        "colab": {}
      },
      "source": [
        "import pandas as pd\n",
        "\n",
        "#from my-mod import flto_nc and dato_cl\n",
        "from my_lambdata.my_mod import flto_nc\n",
        "from my_lambdata.my_mod import split_column_date"
      ],
      "execution_count": 0,
      "outputs": []
    },
    {
      "cell_type": "code",
      "metadata": {
        "id": "aiG7h62nybf6",
        "colab_type": "code",
        "colab": {
          "base_uri": "https://localhost:8080/",
          "height": 204
        },
        "outputId": "7f248da7-9bd0-4f23-f41b-3ad24f4dc4a6"
      },
      "source": [
        "# Instantiate df to test mod.py\n",
        "df = pd.DataFrame({\"Friends\":['Gene', 'Aaron', 'Dom', 'Scott', 'Zack'], \n",
        "\"Times won setback\":[3,1,2,0,5072],\"First game won\":['12-31-2012','2-13-2015',\n",
        "                                                     '10-9-2008','5-6-2007','10-2-1991',]})\n",
        "\n",
        "df.head()"
      ],
      "execution_count": 3,
      "outputs": [
        {
          "output_type": "execute_result",
          "data": {
            "text/html": [
              "<div>\n",
              "<style scoped>\n",
              "    .dataframe tbody tr th:only-of-type {\n",
              "        vertical-align: middle;\n",
              "    }\n",
              "\n",
              "    .dataframe tbody tr th {\n",
              "        vertical-align: top;\n",
              "    }\n",
              "\n",
              "    .dataframe thead th {\n",
              "        text-align: right;\n",
              "    }\n",
              "</style>\n",
              "<table border=\"1\" class=\"dataframe\">\n",
              "  <thead>\n",
              "    <tr style=\"text-align: right;\">\n",
              "      <th></th>\n",
              "      <th>Friends</th>\n",
              "      <th>Times won setback</th>\n",
              "      <th>First game won</th>\n",
              "    </tr>\n",
              "  </thead>\n",
              "  <tbody>\n",
              "    <tr>\n",
              "      <th>0</th>\n",
              "      <td>Gene</td>\n",
              "      <td>3</td>\n",
              "      <td>12-31-2012</td>\n",
              "    </tr>\n",
              "    <tr>\n",
              "      <th>1</th>\n",
              "      <td>Aaron</td>\n",
              "      <td>1</td>\n",
              "      <td>2-13-2015</td>\n",
              "    </tr>\n",
              "    <tr>\n",
              "      <th>2</th>\n",
              "      <td>Dom</td>\n",
              "      <td>2</td>\n",
              "      <td>10-9-2008</td>\n",
              "    </tr>\n",
              "    <tr>\n",
              "      <th>3</th>\n",
              "      <td>Scott</td>\n",
              "      <td>0</td>\n",
              "      <td>5-6-2007</td>\n",
              "    </tr>\n",
              "    <tr>\n",
              "      <th>4</th>\n",
              "      <td>Zack</td>\n",
              "      <td>5072</td>\n",
              "      <td>10-2-1991</td>\n",
              "    </tr>\n",
              "  </tbody>\n",
              "</table>\n",
              "</div>"
            ],
            "text/plain": [
              "  Friends  Times won setback First game won\n",
              "0    Gene                  3     12-31-2012\n",
              "1   Aaron                  1      2-13-2015\n",
              "2     Dom                  2      10-9-2008\n",
              "3   Scott                  0       5-6-2007\n",
              "4    Zack               5072      10-2-1991"
            ]
          },
          "metadata": {
            "tags": []
          },
          "execution_count": 3
        }
      ]
    },
    {
      "cell_type": "code",
      "metadata": {
        "id": "8XfljF9vygsL",
        "colab_type": "code",
        "colab": {
          "base_uri": "https://localhost:8080/",
          "height": 204
        },
        "outputId": "aaa89e84-5585-46f4-d2a4-7bacb3e9ba0f"
      },
      "source": [
        "# Test 1st mod by splitting column date into multiple columns\n",
        "df2 = split_column_date(df,'First game won')\n",
        "df.head()"
      ],
      "execution_count": 9,
      "outputs": [
        {
          "output_type": "execute_result",
          "data": {
            "text/html": [
              "<div>\n",
              "<style scoped>\n",
              "    .dataframe tbody tr th:only-of-type {\n",
              "        vertical-align: middle;\n",
              "    }\n",
              "\n",
              "    .dataframe tbody tr th {\n",
              "        vertical-align: top;\n",
              "    }\n",
              "\n",
              "    .dataframe thead th {\n",
              "        text-align: right;\n",
              "    }\n",
              "</style>\n",
              "<table border=\"1\" class=\"dataframe\">\n",
              "  <thead>\n",
              "    <tr style=\"text-align: right;\">\n",
              "      <th></th>\n",
              "      <th>Friends</th>\n",
              "      <th>Times won setback</th>\n",
              "      <th>First game won</th>\n",
              "      <th>First game won_year</th>\n",
              "      <th>First game won_month</th>\n",
              "      <th>First game won_day</th>\n",
              "      <th>listtocolumn</th>\n",
              "    </tr>\n",
              "  </thead>\n",
              "  <tbody>\n",
              "    <tr>\n",
              "      <th>0</th>\n",
              "      <td>Gene</td>\n",
              "      <td>3</td>\n",
              "      <td>2012-12-31</td>\n",
              "      <td>2012</td>\n",
              "      <td>12</td>\n",
              "      <td>31</td>\n",
              "      <td>5</td>\n",
              "    </tr>\n",
              "    <tr>\n",
              "      <th>1</th>\n",
              "      <td>Aaron</td>\n",
              "      <td>1</td>\n",
              "      <td>2015-02-13</td>\n",
              "      <td>2015</td>\n",
              "      <td>2</td>\n",
              "      <td>13</td>\n",
              "      <td>10</td>\n",
              "    </tr>\n",
              "    <tr>\n",
              "      <th>2</th>\n",
              "      <td>Dom</td>\n",
              "      <td>2</td>\n",
              "      <td>2008-10-09</td>\n",
              "      <td>2008</td>\n",
              "      <td>10</td>\n",
              "      <td>9</td>\n",
              "      <td>15</td>\n",
              "    </tr>\n",
              "    <tr>\n",
              "      <th>3</th>\n",
              "      <td>Scott</td>\n",
              "      <td>0</td>\n",
              "      <td>2007-05-06</td>\n",
              "      <td>2007</td>\n",
              "      <td>5</td>\n",
              "      <td>6</td>\n",
              "      <td>20</td>\n",
              "    </tr>\n",
              "    <tr>\n",
              "      <th>4</th>\n",
              "      <td>Zack</td>\n",
              "      <td>5072</td>\n",
              "      <td>1991-10-02</td>\n",
              "      <td>1991</td>\n",
              "      <td>10</td>\n",
              "      <td>2</td>\n",
              "      <td>25</td>\n",
              "    </tr>\n",
              "  </tbody>\n",
              "</table>\n",
              "</div>"
            ],
            "text/plain": [
              "  Friends  Times won setback  ... First game won_day  listtocolumn\n",
              "0    Gene                  3  ...                 31             5\n",
              "1   Aaron                  1  ...                 13            10\n",
              "2     Dom                  2  ...                  9            15\n",
              "3   Scott                  0  ...                  6            20\n",
              "4    Zack               5072  ...                  2            25\n",
              "\n",
              "[5 rows x 7 columns]"
            ]
          },
          "metadata": {
            "tags": []
          },
          "execution_count": 9
        }
      ]
    },
    {
      "cell_type": "code",
      "metadata": {
        "id": "QGuF0nSPyspP",
        "colab_type": "code",
        "colab": {}
      },
      "source": [
        "# List also to test mod.py\n",
        "l = [5,10,15,20,25]"
      ],
      "execution_count": 0,
      "outputs": []
    },
    {
      "cell_type": "code",
      "metadata": {
        "id": "ZTqbbbV80NuM",
        "colab_type": "code",
        "colab": {
          "base_uri": "https://localhost:8080/",
          "height": 204
        },
        "outputId": "c4cd7858-7c72-4a28-dc8f-ffd13632d57a"
      },
      "source": [
        "flto_nc(df, l, 'listtocolumn')\n",
        "\n",
        "df.head()"
      ],
      "execution_count": 8,
      "outputs": [
        {
          "output_type": "execute_result",
          "data": {
            "text/html": [
              "<div>\n",
              "<style scoped>\n",
              "    .dataframe tbody tr th:only-of-type {\n",
              "        vertical-align: middle;\n",
              "    }\n",
              "\n",
              "    .dataframe tbody tr th {\n",
              "        vertical-align: top;\n",
              "    }\n",
              "\n",
              "    .dataframe thead th {\n",
              "        text-align: right;\n",
              "    }\n",
              "</style>\n",
              "<table border=\"1\" class=\"dataframe\">\n",
              "  <thead>\n",
              "    <tr style=\"text-align: right;\">\n",
              "      <th></th>\n",
              "      <th>Friends</th>\n",
              "      <th>Times won setback</th>\n",
              "      <th>First game won</th>\n",
              "      <th>First game won_year</th>\n",
              "      <th>First game won_month</th>\n",
              "      <th>First game won_day</th>\n",
              "      <th>listtocolumn</th>\n",
              "    </tr>\n",
              "  </thead>\n",
              "  <tbody>\n",
              "    <tr>\n",
              "      <th>0</th>\n",
              "      <td>Gene</td>\n",
              "      <td>3</td>\n",
              "      <td>2012-12-31</td>\n",
              "      <td>2012</td>\n",
              "      <td>12</td>\n",
              "      <td>31</td>\n",
              "      <td>5</td>\n",
              "    </tr>\n",
              "    <tr>\n",
              "      <th>1</th>\n",
              "      <td>Aaron</td>\n",
              "      <td>1</td>\n",
              "      <td>2015-02-13</td>\n",
              "      <td>2015</td>\n",
              "      <td>2</td>\n",
              "      <td>13</td>\n",
              "      <td>10</td>\n",
              "    </tr>\n",
              "    <tr>\n",
              "      <th>2</th>\n",
              "      <td>Dom</td>\n",
              "      <td>2</td>\n",
              "      <td>2008-10-09</td>\n",
              "      <td>2008</td>\n",
              "      <td>10</td>\n",
              "      <td>9</td>\n",
              "      <td>15</td>\n",
              "    </tr>\n",
              "    <tr>\n",
              "      <th>3</th>\n",
              "      <td>Scott</td>\n",
              "      <td>0</td>\n",
              "      <td>2007-05-06</td>\n",
              "      <td>2007</td>\n",
              "      <td>5</td>\n",
              "      <td>6</td>\n",
              "      <td>20</td>\n",
              "    </tr>\n",
              "    <tr>\n",
              "      <th>4</th>\n",
              "      <td>Zack</td>\n",
              "      <td>5072</td>\n",
              "      <td>1991-10-02</td>\n",
              "      <td>1991</td>\n",
              "      <td>10</td>\n",
              "      <td>2</td>\n",
              "      <td>25</td>\n",
              "    </tr>\n",
              "  </tbody>\n",
              "</table>\n",
              "</div>"
            ],
            "text/plain": [
              "  Friends  Times won setback  ... First game won_day  listtocolumn\n",
              "0    Gene                  3  ...                 31             5\n",
              "1   Aaron                  1  ...                 13            10\n",
              "2     Dom                  2  ...                  9            15\n",
              "3   Scott                  0  ...                  6            20\n",
              "4    Zack               5072  ...                  2            25\n",
              "\n",
              "[5 rows x 7 columns]"
            ]
          },
          "metadata": {
            "tags": []
          },
          "execution_count": 8
        }
      ]
    }
  ]
}